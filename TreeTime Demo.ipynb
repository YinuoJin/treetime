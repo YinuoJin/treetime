{
 "cells": [
  {
   "cell_type": "code",
   "execution_count": 13,
   "metadata": {},
   "outputs": [],
   "source": [
    "from treetime import TreeAnc, GTR_site_specific\n",
    "from treetime import seq_utils\n",
    "import numpy as np\n",
    "from Bio import Phylo, AlignIO\n",
    "from io import StringIO\n",
    "import random\n",
    "from collections import defaultdict"
   ]
  },
  {
   "cell_type": "code",
   "execution_count": 14,
   "metadata": {},
   "outputs": [],
   "source": [
    "seq_len = 400\n",
    "\n",
    "# random generate matrices of transition probabilities\n",
    "mygtr = GTR_site_specific.random(L=seq_len, alphabet=\"nuc_nogap\")"
   ]
  },
  {
   "cell_type": "code",
   "execution_count": 15,
   "metadata": {},
   "outputs": [
    {
     "data": {
      "image/png": "[encoded data removed]",
      "text/plain": [
       "<Figure size 432x288 with 1 Axes>"
      ]
     },
     "metadata": {},
     "output_type": "display_data"
    }
   ],
   "source": [
    "# initialize toy tree with simple topology\n",
    "mytree = Phylo.read(StringIO(\"((A:.060,B:.01200)C:.020,D:.0050)E:.004;\"), 'newick')\n",
    "Phylo.draw(mytree)"
   ]
  },
  {
   "cell_type": "code",
   "execution_count": 16,
   "metadata": {},
   "outputs": [],
   "source": [
    "# arbitrary rate parameter\n",
    "myrates = [(.5, np.log(1/3)), (1, np.log(1/3)), (1.5, np.log(1/3))]"
   ]
  },
  {
   "cell_type": "code",
   "execution_count": 17,
   "metadata": {},
   "outputs": [
    {
     "name": "stdout",
     "output_type": "stream",
     "text": [
      "Root sequence: ATTGCGAGCCCATCACGTGCCTCCATCCCGGTAATAAATTGGCATGATACAAGTCATATTATACAAGGATTGGATTCTTAGTGGACTGTCTCTGAATTGTCCGCCAGTGTCGCTCATTCTCCCGGCTCTTAGACGTCTATTTTACGGTACCTATTCATAACATCTTTTGGCTCAAGATGATCTACCTCAAATGATCAAATTCTTTTCACGAGTTAGCCGGCAGGCTATCTTATTGTGCTGTAACCCTTACAAGTCCCATCCTTAAGCTCCGAACACATATTACTGGCGTTTTCATACTCAATCTGAATAGTTGTATCTTGTTCGTCCAGCGCTATGGTACGATCGCTAAAGGAAAACGGCACTAAAGGGTCAAGACCTCATAATTGATCGACTAGAAACG\n"
     ]
    }
   ],
   "source": [
    "# randomly generate root sequence\n",
    "ref_seq = np.ndarray(seq_len, dtype=np.dtype(\"<U1\"))\n",
    "for i in range(seq_len):\n",
    "    p = mygtr.Pi[:, i]\n",
    "    ref_seq[i] = np.random.choice(mygtr.alphabet, p=p)\n",
    "mytree.root.ref_seq = ref_seq\n",
    "print (\"Root sequence: \" + ''.join(mytree.root.ref_seq.astype('U')))"
   ]
  },
  {
   "cell_type": "code",
   "execution_count": 18,
   "metadata": {
    "scrolled": true
   },
   "outputs": [
    {
     "name": "stdout",
     "output_type": "stream",
     "text": [
      "Node C mutations: 10 [('A', 0, 'G'), ('T', 12, 'A'), ('C', 20, 'T'), ('A', 84, 'C'), ('C', 85, 'G'), ('A', 159, 'C'), ('T', 279, 'A'), ('G', 330, 'C'), ('C', 359, 'A'), ('G', 399, 'A')]\n\nNode A mutations: 16 [('C', 8, 'G'), ('C', 15, 'A'), ('A', 57, 'T'), ('A', 94, 'C'), ('C', 103, 'G'), ('C', 112, 'G'), ('C', 118, 'T'), ('T', 166, 'C'), ('C', 201, 'T'), ('T', 205, 'C'), ('A', 231, 'C'), ('A', 272, 'C'), ('C', 325, 'T'), ('A', 360, 'T'), ('A', 379, 'G'), ('T', 380, 'A')]\n\nNode B mutations: 1 [('G', 0, 'C')]\n\nNode D mutations: 2 [('T', 232, 'A'), ('C', 370, 'A')]\n\n"
     ]
    }
   ],
   "source": [
    "# simulate evolution from root, store resulting sequences in nodes of mytree as node.ref_seq\n",
    "mutation_list = defaultdict(list)\n",
    "for node in mytree.find_clades():\n",
    "    for c in node.clades:\n",
    "        c.up = node\n",
    "    if hasattr(node, 'ref_seq'): # root\n",
    "        node.ref_mutations = []\n",
    "        continue\n",
    "    rand_idx = random.randrange(len(myrates))\n",
    "    rate_multiplier, _ = myrates[rand_idx]\n",
    "    t = node.branch_length * rate_multiplier\n",
    "    p = mygtr.evolve( seq_utils.seq2prof(node.up.ref_seq, mygtr.profile_map), t)\n",
    "    # normalize profile\n",
    "    p=(p.T/p.sum(axis=1)).T\n",
    "    # sample mutations randomly\n",
    "    ref_seq_idxs = np.array([int(np.random.choice(np.arange(p.shape[1]), p=p[k])) for k in np.arange(p.shape[0])])\n",
    "\n",
    "    node.ref_seq = np.array([mygtr.alphabet[k] for k in ref_seq_idxs])\n",
    "\n",
    "    node.ref_mutations = [(anc, pos, der) for pos, (anc, der) in\n",
    "                        enumerate(zip(node.up.ref_seq, node.ref_seq)) if anc!=der]\n",
    "    for anc, pos, der in node.ref_mutations:\n",
    "        mutation_list[pos].append((node.name, anc, der))\n",
    "    print (\"Node\", node.name, \"mutations:\", len(node.ref_mutations), node.ref_mutations)\n",
    "    print()"
   ]
  },
  {
   "cell_type": "code",
   "execution_count": 19,
   "metadata": {},
   "outputs": [
    {
     "name": "stdout",
     "output_type": "stream",
     "text": [
      ">A\nGTTGCGAGGCCAACAAGTGCTTCCATCCCGGTAATAAATTGGCATGATACAAGTCATTTTATACAAGGATTGGATTCTTAGTGGCGTGTCTCTGCATTGTCCGGCAGTGTCGGTCATTTTCCCGGCTCTTAGACGTCTATTTTACGGTACCTATTCATACCATCTTCTGGCTCAAGATGATCTACCTCAAATGATCAAATTTTTTCCACGAGTTAGCCGGCAGGCTATCTTCTTGTGCTGTAACCCTTACAAGTCCCATCCTTAAGCTCCGACCACATAATACTGGCGTTTTCATACTCAATCTGAATAGTTGTATCTTGTTCGTTCAGCCCTATGGTACGATCGCTAAAGGAAAACGGATCTAAAGGGTCAAGACCTCGAAATTGATCGACTAGAAACA\n>B\nCTTGCGAGCCCAACACGTGCTTCCATCCCGGTAATAAATTGGCATGATACAAGTCATATTATACAAGGATTGGATTCTTAGTGGCGTGTCTCTGAATTGTCCGCCAGTGTCGCTCATTCTCCCGGCTCTTAGACGTCTATTTTACGGTACCTATTCATACCATCTTTTGGCTCAAGATGATCTACCTCAAATGATCAAATTCTTTTCACGAGTTAGCCGGCAGGCTATCTTATTGTGCTGTAACCCTTACAAGTCCCATCCTTAAGCTCCGAACACATAATACTGGCGTTTTCATACTCAATCTGAATAGTTGTATCTTGTTCGTCCAGCCCTATGGTACGATCGCTAAAGGAAAACGGAACTAAAGGGTCAAGACCTCATAATTGATCGACTAGAAACA\n>D\nATTGCGAGCCCATCACGTGCCTCCATCCCGGTAATAAATTGGCATGATACAAGTCATATTATACAAGGATTGGATTCTTAGTGGACTGTCTCTGAATTGTCCGCCAGTGTCGCTCATTCTCCCGGCTCTTAGACGTCTATTTTACGGTACCTATTCATAACATCTTTTGGCTCAAGATGATCTACCTCAAATGATCAAATTCTTTTCACGAGTTAGCCGGCAGGCTATCTTAATGTGCTGTAACCCTTACAAGTCCCATCCTTAAGCTCCGAACACATATTACTGGCGTTTTCATACTCAATCTGAATAGTTGTATCTTGTTCGTCCAGCGCTATGGTACGATCGCTAAAGGAAAACGGCACTAAAGGGTAAAGACCTCATAATTGATCGACTAGAAACG\n\n"
     ]
    }
   ],
   "source": [
    "# set leaf nodes to evolved sequences, and construct an alignment from them\n",
    "alnstr = \"\"\n",
    "i = 1\n",
    "for leaf in mytree.get_terminals():\n",
    "    alnstr += \">\" + leaf.name + \"\\n\" + ''.join(leaf.ref_seq.astype('U')) + '\\n'\n",
    "    i += 1\n",
    "myaln = AlignIO.read(StringIO(alnstr), 'fasta')\n",
    "print(alnstr)"
   ]
  },
  {
   "cell_type": "code",
   "execution_count": 20,
   "metadata": {},
   "outputs": [
    {
     "name": "stdout",
     "output_type": "stream",
     "text": [
      "\n0.00\t-TreeAnc: set-up\n\n0.00\t-SequenceData: loaded alignment.\n"
     ]
    }
   ],
   "source": [
    "# mytree not used in inference, only other params like alignment\n",
    "anc_tree = TreeAnc(gtr=mygtr, tree=mytree, aln=myaln, rates=myrates, compress=False)"
   ]
  },
  {
   "cell_type": "code",
   "execution_count": 21,
   "metadata": {
    "scrolled": true,
    "collapsed": true
   },
   "outputs": [
    {
     "name": "stdout",
     "output_type": "stream",
     "text": [
      "\n13.30\t-TreeAnc.infer_ancestral_sequences with method: probabilistic, joint\n\n13.30\tWARNING: Previous versions of TreeTime (<0.7.0) RECONSTRUCTED sequences of\n     \ttips at positions with AMBIGUOUS bases. This resulted in unexpected\n     \tbehavior is some cases and is no longer done by default. If you want to\n     \treplace those ambiguous sites with their most likely state, rerun with\n     \t`reconstruct_tip_states=True` or `--reconstruct-tip-states`.\n13.30\t--TreeAnc._ml_anc_marginal: type of reconstruction: Marginal\n"
     ]
    },
    {
     "data": {
      "text/plain": [
       "0"
      ]
     },
     "execution_count": 21,
     "metadata": {},
     "output_type": "execute_result"
    }
   ],
   "source": [
    "anc_tree.infer_ancestral_sequences(marginal=False) # so joint=True"
   ]
  },
  {
   "cell_type": "code",
   "execution_count": 22,
   "metadata": {},
   "outputs": [
    {
     "name": "stdout",
     "output_type": "stream",
     "text": [
      "Number of sites differing from reference (out of 800): 3\n"
     ]
    }
   ],
   "source": [
    "diff_count = 0\n",
    "mut_count = 0\n",
    "for node in anc_tree.tree.find_clades():\n",
    "    mut_count += len(node.ref_mutations)\n",
    "    diff_count += np.sum(node.sequence != node.ref_seq)\n",
    "\n",
    "print(\"Number of sites differing from reference (out of 800):\", diff_count)\n",
    "assert diff_count < 10"
   ]
  },
  {
   "cell_type": "code",
   "execution_count": 23,
   "metadata": {
    "collapsed": true
   },
   "outputs": [
    {
     "name": "stdout",
     "output_type": "stream",
     "text": [
      "70.75\t--TreeAnc.get_reconstructed_alignment ...\nAlphabet() alignment with 5 rows and 400 columns\nATTGCGAGCCCATCACGTGCCTCCATCCCGGTAATAAATTGGCA...ACG E\nATTGCGAGCCCATCACGTGCCTCCATCCCGGTAATAAATTGGCA...ACG D\nCTTGCGAGCCCAACACGTGCTTCCATCCCGGTAATAAATTGGCA...ACA C\nGTTGCGAGGCCAACAAGTGCTTCCATCCCGGTAATAAATTGGCA...ACA A\nCTTGCGAGCCCAACACGTGCTTCCATCCCGGTAATAAATTGGCA...ACA B\n"
     ]
    }
   ],
   "source": [
    "print(anc_tree.get_reconstructed_alignment())"
   ]
  }
 ],
 "metadata": {
  "kernelspec": {
   "display_name": "Python 3",
   "language": "python",
   "name": "python3"
  },
  "language_info": {
   "codemirror_mode": {
    "name": "ipython",
    "version": 3
   },
   "file_extension": ".py",
   "mimetype": "text/x-python",
   "name": "python",
   "nbconvert_exporter": "python",
   "pygments_lexer": "ipython3",
   "version": "3.7.4"
  }
 },
 "nbformat": 4,
 "nbformat_minor": 2
}
