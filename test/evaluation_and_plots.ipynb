{
 "cells": [
  {
   "cell_type": "code",
   "execution_count": 1,
   "metadata": {
    "slideshow": {
     "slide_type": "slide"
    }
   },
   "outputs": [],
   "source": [
    "import numpy as np\n",
    "import pandas as pd\n",
    "from Bio import Phylo, SeqIO\n",
    "from treetime import TreeAnc, GTR, GTR_site_specific, ASRV\n",
    "import matplotlib.pyplot as plt\n",
    "import seaborn as sns\n",
    "import toytree\n",
    "%matplotlib inline"
   ]
  },
  {
   "cell_type": "code",
   "execution_count": 2,
   "metadata": {
    "slideshow": {
     "slide_type": "fragment"
    }
   },
   "outputs": [],
   "source": [
    "path = '../data/'"
   ]
  },
  {
   "cell_type": "code",
   "execution_count": 3,
   "metadata": {},
   "outputs": [],
   "source": [
    "def rename_ancestral_nodes(curr_tree):\n",
    "    for node in curr_tree.tree.find_clades(order='postorder'):\n",
    "        if len(node.clades) == 0:\n",
    "            continue\n",
    "        children_set = set([child.name for child in node.clades])\n",
    "        if '01' in children_set and '02' in children_set:\n",
    "            node.name = '37'\n",
    "        elif '03' in children_set and '04' in children_set:\n",
    "            node.name = '36'\n",
    "        elif '05' in children_set and '06' in children_set:\n",
    "            node.name = '35'\n",
    "        elif '07' in children_set and '08' in children_set:\n",
    "            node.name = '33'\n",
    "        elif '09' in children_set and '10' in children_set:\n",
    "            node.name = '31'\n",
    "        elif '12' in children_set and '13' in children_set:\n",
    "            node.name = '29'\n",
    "        elif '14' in children_set and '15' in children_set:\n",
    "            node.name = '27'\n",
    "        elif '16' in children_set and '17' in children_set:\n",
    "            node.name = '26'\n",
    "        elif '18' in children_set and '19' in children_set:\n",
    "            node.name = '25'\n",
    "        elif '25' in children_set and '26' in children_set:\n",
    "            node.name = '24'\n",
    "        elif '24' in children_set and '27' in children_set:\n",
    "            node.name = '23'\n",
    "        elif '11' in children_set and '29' in children_set:\n",
    "            node.name = '28'\n",
    "        elif '23' in children_set and '28' in children_set:\n",
    "            node.name = '22'\n",
    "        elif '35' in children_set and '36' in children_set:\n",
    "            node.name = '34'\n",
    "        elif '33' in children_set and '34' in children_set:\n",
    "            node.name = '32'\n",
    "        elif '31' in children_set and '32' in children_set:\n",
    "            node.name = '30'\n",
    "        elif '22' in children_set and '30' in children_set:\n",
    "            node.name = '21'\n",
    "        elif '21' in children_set and '37' in children_set:\n",
    "            node.name = '20'"
   ]
  },
  {
   "cell_type": "code",
   "execution_count": 4,
   "metadata": {},
   "outputs": [],
   "source": [
    "# helper functions\n",
    "def measure_accuracy(curr_tree, show_results=False):\n",
    "    rename_ancestral_nodes(curr_tree)\n",
    "    node_seq_dict = {}\n",
    "\n",
    "    for node in curr_tree.tree.find_clades(order='preorder'):\n",
    "        if node.name != 20:\n",
    "            node_seq_dict[node.name] = node.sequence\n",
    "            \n",
    "    #import ground truth sequences\n",
    "    true_node_seq_dict = {}\n",
    "    record_dict = SeqIO.to_dict(SeqIO.parse(path+\"fp_seq_aa.fasta\", \"fasta\"))\n",
    "\n",
    "    for name in node_seq_dict.keys():\n",
    "        if name != '20':\n",
    "            true_node_seq_dict[name] = np.array(record_dict[name].seq, dtype='U1')\n",
    "    \n",
    "    name_err = {}\n",
    "    total_count = 0\n",
    "    for name in true_node_seq_dict.keys():\n",
    "        incorrect_count = ((node_seq_dict[name] == true_node_seq_dict[name]) == False).astype(int).sum()\n",
    "        \n",
    "        if int(name) > 20:\n",
    "            name_err[name] = incorrect_count\n",
    "        #print(name+':', incorrect_count)\n",
    "        total_count += incorrect_count\n",
    "    acc = 1 - total_count/(17*len(curr_tree.tree.root.sequence))\n",
    "    \n",
    "    if show_results:\n",
    "        print(total_count)\n",
    "        print('acccuracy:', 1 - total_count/(17*len(curr_tree.tree.root.sequence)))\n",
    "    \n",
    "    return total_count, acc, name_err\n",
    "\n",
    "\n",
    "def sort_dict(dic):\n",
    "    sorted_dict = []\n",
    "    for key in sorted(dic.keys()):\n",
    "        sorted_dict.append(dic[key])\n",
    "        \n",
    "    return sorted_dict"
   ]
  },
  {
   "cell_type": "code",
   "execution_count": 211,
   "metadata": {},
   "outputs": [],
   "source": [
    "# EX properties ('B', 'E')\n",
    "ex_properties = 'EEEEEEEBEEEBEBEBEBEEEBEEEEBEBEEEEEEEEEEBEEEBEEEBEEEEEBEBBBEBBBEBBEEEEEEBEEEEEEBEEEBEEEEEEEEEEEEEEEEEEEBEBEBEEEBEBEEEEBEEEBEBEBEEEEEEEEEBEEEEEEEEEEEEEEEEEEEEBEBEBEEEBEBEEEEEEEBEBEEEEEBEEEEEEEEEBBBEEEBEEEEEEEEEEEEEEEEEBEBEEEEEE'\n",
    "solvent_property = np.array(list(ex_properties))\n",
    "\n",
    "# EHO properties ('H', 'E', 'O')\n",
    "eho_properties = 'CCCCHHHCCCCCEEEEEEECCCCCCEEEEEECCCCCCCCCEEEEEEEEECCCCCCCCHHHHHHHHHHCCCEECCCCCCCHHHHHHHCCCCCEEEEEEEECCCCEEEEEEEEEECCCEEEEEEEEEECCCCCCCCCCCCCCCCCCCCCCCEECCCCEEEEEEEEEEEECCCCEEEEEEEEEEECCCCCCCCCCEEEEEEEEEECCCCCCCEEEEEEEEEEEECCCC'\n",
    "eho_properties_formatted = eho_properties.replace('C', 'O')\n",
    "secondary_property = np.array(list(eho_properties_formatted))\n"
   ]
  },
  {
   "cell_type": "code",
   "execution_count": 6,
   "metadata": {},
   "outputs": [],
   "source": [
    "alpha=0.545\n",
    "asrv = ASRV(alpha)\n",
    "rates = asrv.calc_rates()"
   ]
  },
  {
   "cell_type": "markdown",
   "metadata": {},
   "source": [
    "### Test site-specific gtr"
   ]
  },
  {
   "cell_type": "code",
   "execution_count": null,
   "metadata": {},
   "outputs": [],
   "source": [
    "fp_tree = TreeAnc(compress=False, gtr='BE', tree=path+'fp_tree.nwk', aln=path+'fp_extant_aa.fasta', rates=rates,\n",
    "                  struct_propty=solvent_property, verbose=0)\n",
    "fp_tree.infer_ancestral_sequences(infer_gtr=False, marginal=True)\n",
    "_ = measure_accuracy(fp_tree, show_results=True)"
   ]
  },
  {
   "cell_type": "code",
   "execution_count": null,
   "metadata": {},
   "outputs": [],
   "source": [
    "# plot the distribution and fitted gamma distribution\n",
    "from scipy.stats import gamma\n",
    "\n",
    "x = np.linspace(0, 10, 100)\n",
    "alpha_plot = 0.003\n",
    "scale = 1/alpha_plot\n",
    "y = gamma.pdf(x, a=alpha_plot, scale=1000000000)\n",
    "\n",
    "plt.bar(num_variants.keys(), num_variants.values(), 1, alpha=0.5, color='b')\n",
    "plt.plot(x,y)\n",
    "plt.show()"
   ]
  },
  {
   "cell_type": "code",
   "execution_count": null,
   "metadata": {},
   "outputs": [],
   "source": [
    "# fine tuning\n",
    "alpha_vals = np.linspace(0.01, 1.5, 100)\n",
    "\n",
    "error_counts = []\n",
    "accs = []\n",
    "error_counts_ss = []\n",
    "accs_ss = []\n",
    "\n",
    "for i, a in enumerate(alpha_vals):\n",
    "    if i % 10 == 0:\n",
    "        print('--- ROUND %d ---' % (i))\n",
    "    asrv = ASRV(a)\n",
    "    curr_rates = asrv.calc_rates()\n",
    "    \n",
    "    fp_tree = TreeAnc(compress=False, gtr='BE', tree=path+'fp_tree.nwk', aln=path+'fp_extant_aa.fasta', \n",
    "                      rates=curr_rates, struct_propty=solvent_property, verbose=0)\n",
    "    fp_tree.infer_ancestral_sequences(infer_gtr=False, marginal=True)\n",
    "    \n",
    "    count, acc, _ = measure_accuracy(fp_tree)\n",
    "    error_counts.append(count)\n",
    "    accs.append(acc)\n",
    "    \n",
    "    \n",
    "    fp_tree_ss = TreeAnc(compress=False, gtr='EX', tree=path+'fp_tree.nwk', aln=path+'fp_extant_aa.fasta',\n",
    "                      rates=curr_rates, struct_propty=solvent_property, verbose=0)\n",
    "    fp_tree_ss.infer_ancestral_sequences(infer_gtr=False, marginal=True)\n",
    "    \n",
    "    count_ss, acc_ss, _ = measure_accuracy(fp_tree_ss)\n",
    "    error_counts_ss.append(count_ss)\n",
    "    accs_ss.append(acc_ss)\n",
    "\n",
    "    del asrv, curr_rates, fp_tree, fp_tree_ss\n",
    "\n",
    "\n"
   ]
  },
  {
   "cell_type": "code",
   "execution_count": null,
   "metadata": {},
   "outputs": [],
   "source": [
    "fp_tree_invariant = TreeAnc(compress=False, gtr='BE',\n",
    "                           tree=path + 'fp_tree.nwk',\n",
    "                           rates=rates,\n",
    "                           aln=path+'fp_extant_aa.fasta',\n",
    "                           struct_propty=solvent_property,\n",
    "                           mu=mus,\n",
    "                           verbose=0)"
   ]
  },
  {
   "cell_type": "code",
   "execution_count": null,
   "metadata": {},
   "outputs": [],
   "source": [
    "plt.figure(figsize=(8,6))\n",
    "plt.plot(alpha_vals, accs)\n",
    "plt.plot(alpha_vals, accs_ss)\n",
    "plt.show()"
   ]
  },
  {
   "cell_type": "code",
   "execution_count": null,
   "metadata": {},
   "outputs": [],
   "source": [
    "fp_tree_ss.gtr[]"
   ]
  },
  {
   "cell_type": "code",
   "execution_count": null,
   "metadata": {},
   "outputs": [],
   "source": [
    "del fp_tree, fp_tree_ss"
   ]
  },
  {
   "cell_type": "markdown",
   "metadata": {},
   "source": [
    "### Test loglikelihood"
   ]
  },
  {
   "cell_type": "code",
   "execution_count": 322,
   "metadata": {},
   "outputs": [],
   "source": [
    "alpha=0.545\n",
    "asrv = ASRV(alpha)\n",
    "rates = asrv.calc_rates()"
   ]
  },
  {
   "cell_type": "code",
   "execution_count": 323,
   "metadata": {
    "scrolled": false
   },
   "outputs": [
    {
     "name": "stdout",
     "output_type": "stream",
     "text": [
      "77\n",
      "acccuracy: 0.9798692810457517\n",
      "79\n",
      "acccuracy: 0.9793464052287582\n",
      "79\n",
      "acccuracy: 0.9793464052287582\n",
      "75\n",
      "acccuracy: 0.9803921568627451\n",
      "82\n",
      "acccuracy: 0.978562091503268\n"
     ]
    }
   ],
   "source": [
    "fp_tree_comparison = TreeAnc(compress=False, gtr='lg', tree=path+'fp_tree.nwk', aln=path+'fp_extant_aa.fasta', verbose=0)\n",
    "fp_tree = TreeAnc(compress=False, gtr='wag', tree=path+'fp_tree.nwk', aln=path+'fp_extant_aa.fasta', verbose=0)\n",
    "fp_tree_asrv = TreeAnc(compress=False, gtr='wag', tree=path+'fp_tree.nwk', aln=path+'fp_extant_aa.fasta', rates=rates, verbose=0)\n",
    "fp_tree_ss = TreeAnc(compress=False, gtr='EX', tree=path+'fp_tree.nwk', aln=path+'fp_extant_aa.fasta', rates=rates,\n",
    "                  struct_propty=solvent_property, verbose=0)\n",
    "fp_tree_3d = TreeAnc(compress=False, gtr='EHO', tree=path+'fp_tree.nwk', aln=path+'fp_extant_aa.fasta', rates=rates,\n",
    "                  struct_propty=secondary_property, verbose=0)\n",
    "\n",
    "\n",
    "#_,_, secondary_profile = measure_accuracy(fp_tree)\n",
    "\n",
    "#secondary_lhs = fp_tree.tree.sequence_LH\n",
    "fp_tree_comparison.infer_ancestral_sequences(infer_gtrs=False, marginal=True)\n",
    "fp_tree.infer_ancestral_sequences(infer_gtrs=False, marginal=True)\n",
    "fp_tree_asrv.infer_ancestral_sequences(infer_gtrs=False, marginal=True)\n",
    "fp_tree_ss.infer_ancestral_sequences(infer_gtrs=False, marginal=True)\n",
    "fp_tree_3d.infer_ancestral_sequences(infer_gtrs=False, marginal=True)\n",
    "\n",
    "\n",
    "_, _, lg_profile = measure_accuracy(fp_tree_comparison, show_results=True)\n",
    "_, _, wag_profile= measure_accuracy(fp_tree, show_results=True)\n",
    "_, _, wag_asrv_profile = measure_accuracy(fp_tree_asrv, show_results=True)\n",
    "_, _, wag_ss_profile = measure_accuracy(fp_tree_ss, show_results=True)\n",
    "_, _, wag_3d_profile = measure_accuracy(fp_tree_3d, show_results=True)\n",
    "\n",
    "\n",
    "# cleaning\n",
    "#del fp_tree"
   ]
  },
  {
   "cell_type": "code",
   "execution_count": 214,
   "metadata": {},
   "outputs": [
    {
     "name": "stdout",
     "output_type": "stream",
     "text": [
      "-2994.8687627508634\n",
      "-2918.527325878265\n",
      "-2802.1603594401695\n",
      "-2898.265179102712\n",
      "-2938.5143504347734\n"
     ]
    }
   ],
   "source": [
    "print(fp_tree_comparison.tree.total_sequence_LH)\n",
    "print(fp_tree.tree.total_sequence_LH)\n",
    "print(fp_tree_asrv.tree.total_sequence_LH)\n",
    "print(fp_tree_ss.tree.total_sequence_LH)\n",
    "print(fp_tree_3d.tree.total_sequence_LH)"
   ]
  },
  {
   "cell_type": "code",
   "execution_count": 227,
   "metadata": {},
   "outputs": [],
   "source": [
    "#fp_fix = fp_tree.tree.sequence_LH - fp_tree_comparison.tree.sequence_LH\n",
    "#fp_asrv = fp_tree_asrv.tree.sequence_LH - fp_tree_comparison.tree.sequence_LH\n",
    "#fp_ss = fp_tree_ss.tree.sequence_LH - fp_tree_comparison.tree.sequence_LH\n",
    "#fp_3d = fp_tree_ss.tree.sequence_LH - fp_tree_comparison.tree.sequence_LH\n",
    "\n",
    "fp_fix = fp_tree.tree.sequence_LH\n",
    "fp_asrv = fp_tree_asrv.tree.sequence_LH\n",
    "fp_ss = fp_tree_ss.tree.sequence_LH\n",
    "fp_3d = fp_tree_ss.tree.sequence_LH\n"
   ]
  },
  {
   "cell_type": "code",
   "execution_count": 228,
   "metadata": {},
   "outputs": [],
   "source": [
    "fp_vals = np.zeros(4* len(fp_fix)) \n",
    "fp_vals[:len(fp_fix)] = fp_fix\n",
    "fp_vals[len(fp_fix):2*len(fp_fix)] = fp_asrv\n",
    "fp_vals[2*len(fp_fix):3*len(fp_fix)] = fp_ss\n",
    "fp_vals[3*len(fp_fix):] = fp_3d"
   ]
  },
  {
   "cell_type": "code",
   "execution_count": 229,
   "metadata": {},
   "outputs": [],
   "source": [
    "method = ['Fixed (without Γ)'] * len(fp_fix) + ['ASRV (Γ)'] * len(fp_asrv) + ['Solvent + Γ'] * len(fp_asrv) + ['Secondary + Γ'] * len(fp_asrv)\n",
    "df = pd.DataFrame.from_dict({'Loglikelihood': fp_vals, 'Method': method})"
   ]
  },
  {
   "cell_type": "code",
   "execution_count": 231,
   "metadata": {},
   "outputs": [
    {
     "data": {
      "image/png": "[encoded data removed]",
      "text/plain": [
       "<Figure size 576x432 with 1 Axes>"
      ]
     },
     "metadata": {},
     "output_type": "display_data"
    }
   ],
   "source": [
    "plt.figure(figsize=(8,6))\n",
    "sns.violinplot(x='Method', y='Loglikelihood', data=df)\n",
    "plt.ylim([-150, 50])\n",
    "plt.savefig('Loglikelihood_fp.png', dpi=300)"
   ]
  },
  {
   "cell_type": "code",
   "execution_count": null,
   "metadata": {},
   "outputs": [],
   "source": []
  },
  {
   "cell_type": "code",
   "execution_count": null,
   "metadata": {},
   "outputs": [],
   "source": []
  },
  {
   "cell_type": "code",
   "execution_count": null,
   "metadata": {},
   "outputs": [],
   "source": [
    "# fine tuning\n",
    "#count_wag = []\n",
    "#accs_wag = []\n",
    "\n",
    "#alpha_vals = np.linspace(0.01, 1.5, 100)\n",
    "\n",
    "#for i, a in enumerate(alpha_vals):\n",
    "#    if i % 10 == 0:\n",
    "#        print('--- ROUND %d ---' % (i)) \n",
    "#    asrv = ASRV(a)\n",
    "#    rates = asrv.calc_rates()\n",
    "#    \n",
    "#    fp_tree = TreeAnc(compress=False, gtr='wag', tree=path+'fp_tree.nwk', aln=path+'fp_extant_aa.fasta', rates=rates, verbose=0)\n",
    "#    fp_tree.infer_ancestral_sequences(infer_gtrs=False, marginal=True)\n",
    "#    count, acc, _ = measure_accuracy(fp_tree)\n",
    "    \n",
    "#    count_wag.append(count)\n",
    "#    accs_wag.append(count)\n",
    "\n",
    "#    del count, acc, fp_tree"
   ]
  },
  {
   "cell_type": "code",
   "execution_count": null,
   "metadata": {},
   "outputs": [],
   "source": []
  },
  {
   "cell_type": "markdown",
   "metadata": {},
   "source": [
    "### Grouped barplot "
   ]
  },
  {
   "cell_type": "code",
   "execution_count": 245,
   "metadata": {},
   "outputs": [],
   "source": [
    "#jtt_profile = sort_dict(jtt_profile)\n",
    "wag_profile = sort_dict(wag_profile)\n",
    "wag_profile_asrv = sort_dict(wag_asrv_profile)\n",
    "solvent_profile = sort_dict(wag_ss_profile)\n",
    "secondary_profile = sort_dict(wag_3d_profile)\n",
    "\n"
   ]
  },
  {
   "cell_type": "code",
   "execution_count": 250,
   "metadata": {},
   "outputs": [],
   "source": [
    "fastml_profile = [10,8,2,1,8,0,2,5,1,8,6,4,4,4,2,2,3]"
   ]
  },
  {
   "cell_type": "code",
   "execution_count": 251,
   "metadata": {},
   "outputs": [],
   "source": [
    "colors = sns.color_palette(\"Set2\", 8)"
   ]
  },
  {
   "cell_type": "code",
   "execution_count": 252,
   "metadata": {},
   "outputs": [],
   "source": [
    "colors = colors[:5]"
   ]
  },
  {
   "cell_type": "code",
   "execution_count": 261,
   "metadata": {},
   "outputs": [
    {
     "data": {
      "image/png": "[encoded data removed]",
      "text/plain": [
       "<Figure size 1440x432 with 1 Axes>"
      ]
     },
     "metadata": {},
     "output_type": "display_data"
    }
   ],
   "source": [
    "barWidth = 0.15\n",
    "\n",
    "r1 = np.arange(17)\n",
    "r2 = [x + barWidth for x in r1]\n",
    "r3 = [x + barWidth for x in r2]\n",
    "r4 = [x + barWidth for x in r3]\n",
    "r5 = [x + barWidth for x in r4]\n",
    "#r5 = [x + barWidth for x in r4]\n",
    "#r6 = [x + barWidth for x in r5]\n",
    "#r7 = [x + barWidth for x in r6]\n",
    "#r8 = [x + barWidth for x in r7]\n",
    "\n",
    "\"\"\"\"\n",
    "plt.figure(figsize=(30, 8))\n",
    "plt.bar(r1, jtt_profile, color=colors[0], width=barWidth, edgecolor='white', label='JTT')\n",
    "plt.bar(r2, wag_profile, color=colors[1], width=barWidth, edgecolor='white', label='WAG')\n",
    "plt.bar(r3, lg_profile, color=colors[2], width=barWidth, edgecolor='white', label='LG')\n",
    "plt.bar(r4, jtt_profile_asrv, color=colors[3], width=barWidth, edgecolor='white', label='JTT $\\Gamma$')\n",
    "plt.bar(r5, wag_profile_asrv, color=colors[4], width=barWidth, edgecolor='white', label='WAG $\\Gamma$')\n",
    "plt.bar(r6, lg_profile_asrv, color=colors[5], width=barWidth, edgecolor='white', label='LG $\\Gamma$')\n",
    "plt.bar(r7, solvent_profile, color=colors[6], width=barWidth, edgecolor='white', label='Solvent')\n",
    "plt.bar(r8, structural_profile, color=colors[7], width=barWidth, edgecolor='white', label='Secondary')\n",
    "\"\"\"\n",
    "\n",
    "plt.figure(figsize=(20,6))\n",
    "plt.bar(r1, wag_profile, color=colors[0], width=barWidth, edgecolor='white', label='WAG')\n",
    "plt.bar(r2, wag_profile_asrv, color=colors[1], width=barWidth, edgecolor='white', label='WAG $\\Gamma$')\n",
    "plt.bar(r3, solvent_profile, color=colors[2], width=barWidth, edgecolor='white', label='EX')\n",
    "plt.bar(r4, secondary_profile, color=colors[3], width=barWidth, edgecolor='white', label='EHO')\n",
    "plt.bar(r5, fastml_profile, color=colors[4], width=barWidth, edgecolor='white', label='fastml $\\Gamma$')\n",
    "\n",
    "\n",
    "\n",
    "plt.xlabel('Node', fontweight='bold', fontsize=18)\n",
    "plt.xticks([r + 0.3 for r in range(17)], [str(i) for i in range(21, 38)], fontsize=18)\n",
    "plt.legend(prop={'size': 20})\n",
    "plt.savefig('bar_incorrect.png', dpi=300)\n",
    "plt.show()"
   ]
  },
  {
   "cell_type": "markdown",
   "metadata": {},
   "source": [
    "### Compare loglikelihood"
   ]
  },
  {
   "cell_type": "code",
   "execution_count": null,
   "metadata": {},
   "outputs": [],
   "source": [
    "# matrices\n",
    "matrices = ['jtt92', 'wag01','lg08']\n",
    "alpha = 0.542"
   ]
  },
  {
   "cell_type": "code",
   "execution_count": null,
   "metadata": {},
   "outputs": [],
   "source": [
    "jtt_lhs = []\n",
    "wag_lhs = []\n",
    "lg_lhs = []\n",
    "ex_lhs = []\n",
    "eho_lhs = []"
   ]
  },
  {
   "cell_type": "code",
   "execution_count": null,
   "metadata": {},
   "outputs": [],
   "source": [
    "counts = [80, 79, 77, 80, 79, 79, 75, 82]\n",
    "accs_asrv = [0.9790849673202614, 0.9793464052287582, 0.9798692810457517, 0.9790849673202614, 0.9793464052287582, 0.9793464052287582, 0.9803921568627451, 0.978562091503268]"
   ]
  },
  {
   "cell_type": "code",
   "execution_count": null,
   "metadata": {},
   "outputs": [],
   "source": [
    "len(jtt_lhs)"
   ]
  },
  {
   "cell_type": "code",
   "execution_count": null,
   "metadata": {},
   "outputs": [],
   "source": [
    "## violinplot\n",
    "catg_list = []\n",
    "category = ['JTT', 'WAG', 'LG', 'JTT Γ', 'WAG Γ', 'LG Γ', 'Solvent Acc.', 'Secondary']\n",
    "\n",
    "for catg in category[:-2]:\n",
    "    catg_list.extend([catg] * 127)\n",
    "catg_list.extend(['Solvent'] * 255)\n",
    "catg_list.extend(['Secondary'] * 255)\n",
    "\n",
    "lh_list = [jtt_lhs, wag_lhs, lg_lhs, jtt_lhs_asrv, wag_lhs_asrv, lg_lhs_asrv, solvent_lhs, secondary_lhs]\n",
    "lh_vals = []\n",
    "\n",
    "for lh in lh_list:\n",
    "    lh_vals.extend(lh)"
   ]
  },
  {
   "cell_type": "code",
   "execution_count": null,
   "metadata": {},
   "outputs": [],
   "source": [
    "df = pd.DataFrame(list(zip(lh_vals, catg_list)), \n",
    "               columns =['lh', 'model'])"
   ]
  },
  {
   "cell_type": "code",
   "execution_count": null,
   "metadata": {},
   "outputs": [],
   "source": [
    "plt.figure(figsize=(10,6))\n",
    "sns.violinplot(x='model', y='lh', data=df)\n",
    "plt.suptitle('Loglikelihood comparison between models')\n",
    "plt.savefig('Loglikelihood.png', dpi=300)"
   ]
  },
  {
   "cell_type": "code",
   "execution_count": null,
   "metadata": {},
   "outputs": [],
   "source": [
    "lh_vals_new = []\n",
    "for lh in lh_list[1:6]:\n",
    "    lh_vals_new.extend(lh - jtt_lhs)"
   ]
  },
  {
   "cell_type": "code",
   "execution_count": null,
   "metadata": {},
   "outputs": [],
   "source": [
    "#lh_vals_new.extend(solvent_lhs[:len(jtt_lhs)] - jtt_lhs)\n",
    "#lh_vals_new.extend(secondary_lhs[:len(jtt_lhs)] - jtt_lhs)"
   ]
  },
  {
   "cell_type": "code",
   "execution_count": null,
   "metadata": {},
   "outputs": [],
   "source": [
    "df_new = pd.DataFrame(list(zip(lh_vals_new, catg_list[127:-510])), \n",
    "               columns =['lh', 'model'])"
   ]
  },
  {
   "cell_type": "code",
   "execution_count": null,
   "metadata": {},
   "outputs": [],
   "source": [
    "plt.figure(figsize=(10,6))\n",
    "sns.violinplot(x='model', y='lh', data=df_new)\n",
    "plt.suptitle('Loglikelihood comparison between models')\n",
    "plt.savefig('Loglikelihood_2.png', dpi=300)"
   ]
  },
  {
   "cell_type": "code",
   "execution_count": null,
   "metadata": {},
   "outputs": [],
   "source": []
  },
  {
   "cell_type": "code",
   "execution_count": null,
   "metadata": {},
   "outputs": [],
   "source": []
  },
  {
   "cell_type": "markdown",
   "metadata": {},
   "source": [
    "### Mitochondrial sequence"
   ]
  },
  {
   "cell_type": "code",
   "execution_count": null,
   "metadata": {},
   "outputs": [],
   "source": [
    "# filter\n",
    "species_names = set()\n",
    "seq_titles = set()\n",
    "with open(path + 'mito_cos.fasta', 'r') as ifile:\n",
    "    for line in ifile:\n",
    "        if line[0] == '>':\n",
    "            species_name = line.partition('[')[2].partition(']')[0]\n",
    "            if species_name not in species_names:\n",
    "                species_names.add(species_name)\n",
    "            else:\n",
    "                print(species_name)\n",
    "\n",
    "            "
   ]
  },
  {
   "cell_type": "code",
   "execution_count": null,
   "metadata": {},
   "outputs": [],
   "source": [
    "len(species_names)"
   ]
  },
  {
   "cell_type": "code",
   "execution_count": null,
   "metadata": {},
   "outputs": [],
   "source": [
    "%%bash\n",
    "ls -al ../data"
   ]
  },
  {
   "cell_type": "code",
   "execution_count": 187,
   "metadata": {},
   "outputs": [],
   "source": [
    "asrv = ASRV(0.26)\n",
    "rates = asrv.calc_rates()"
   ]
  },
  {
   "cell_type": "code",
   "execution_count": 188,
   "metadata": {},
   "outputs": [],
   "source": [
    "mito_solvent_tmp = '22413310210010110210010000000000000000000000101301211323100000000000000000000000000000000000000100001011000000000000000010023111100000000112211211000000000000000000000000000100214304133000000000000000000000000000000011201110010111110000000000011110000000000000000132233431001000000000000000000000000000101010000000000001010100000000100303130000000000000000100000001010100011000000001000000000000000000001001130242102000000000010000010000011001112200100110100000000000000000000000001242211013221100000231112210131102034455523233'\n",
    "mito_solvent_properties = np.array(list(mito_solvent_tmp), dtype='U1')\n",
    "buried_sites = mito_solvent_properties == '0'\n",
    "exposed_sites = mito_solvent_properties != '0'\n",
    "mito_solvent_properties[buried_sites] = 'B'\n",
    "mito_solvent_properties[exposed_sites] = 'E'"
   ]
  },
  {
   "cell_type": "code",
   "execution_count": 189,
   "metadata": {},
   "outputs": [],
   "source": [
    "mito_secondary_tmp = 'CCCCCHHHHEEEECCCCCHHHHHHHHHHHHHHHHHHHHHHHHHHHHCCCCCCCCCCCEEHHHHHHHHHHHHHHHHHHHHHHHHHHHHHHHHCCCCCCCCCCCCCCHHHHCCHHHHHHHHHHHHCCCCCCCEECCCCCCCCCCCCCCHHHHHHHHHHHHHHHHHHHHHHHHHHHHHCCCCCCCCCCCCHHHHHHHHHHHHHHHHHHHHHHHHHHHHHHHCCCCCCCCCCCCCCHHHHHHHHHHCCCCCEEEEECCCCHHHHHHHHCCCCCCCCCHHHHHHHHHHHHHHHHHHHHHCCCEEECCCHHHHHHHHHHHHHHHCCCHHHHHHHHHHHHCCCECCCHHHHHHHHHHHHHHCCCCCEEEECCCCCCEECCCCEEEHHHHHHHHHHHHHHHHHHHHHHHHHHHHCCCCCHHHHHHHHHHHHHHHHHHHHHHHHHHCCCCCCCCCCCHHHHHHHHHHHHHHHHHHHHHHHHHHHHHHHHHHCCCCCECCCCCCCCHHHHCCCCCCCCCCCCCCEEECCCCCCCCCC'\n",
    "mito_secondary_properties = np.array(list(mito_secondary_tmp), dtype='U1')\n",
    "mito_secondary_properties[mito_secondary_properties == 'C'] = 'O'"
   ]
  },
  {
   "cell_type": "code",
   "execution_count": 190,
   "metadata": {},
   "outputs": [
    {
     "data": {
      "text/plain": [
       "0"
      ]
     },
     "execution_count": 190,
     "metadata": {},
     "output_type": "execute_result"
    }
   ],
   "source": [
    "mito_tree_comparison = TreeAnc(compress=False, gtr='lg', tree=path+'mito_cos_raxml_tree.nwk', aln=path+'mito_cos_aln.fasta', verbose=0)\n",
    "mito_tree_comparison.infer_ancestral_sequences(infer_gtr=False, marginal=True)\n",
    "\n",
    "\n",
    "mito_tree = TreeAnc(compress=False, gtr='wag', tree=path+'mito_cos_raxml_tree.nwk', aln=path+'mito_cos_aln.fasta', verbose=0)\n",
    "mito_tree.infer_ancestral_sequences(infer_gtr=False, marginal=True)\n",
    "\n",
    "mito_tree_asrv = TreeAnc(compress=False, gtr='wag', tree=path+'mito_cos_raxml_tree.nwk', aln=path+'mito_cos_aln.fasta', \n",
    "                    rates=rates, verbose=0)\n",
    "mito_tree_asrv.infer_ancestral_sequences(infer_gtr=False, marginal=True)\n",
    "\n",
    "\n",
    "mito_tree_ss = TreeAnc(compress=False, gtr='EX', tree=path+'mito_cos_raxml_tree.nwk', aln=path+'mito_cos_aln.fasta', \n",
    "                    rates=rates, struct_propty=mito_solvent_properties, verbose=0)\n",
    "mito_tree_ss.infer_ancestral_sequences(infer_gtr=False, marginal=True)\n",
    "\n",
    "mito_tree_3d = TreeAnc(compress=False, gtr='EHO', tree=path+'mito_cos_raxml_tree.nwk', aln=path+'mito_cos_aln.fasta', \n",
    "                    rates=rates, struct_propty=mito_secondary_properties, verbose=0)\n",
    "mito_tree_3d.infer_ancestral_sequences(infer_gtr=False, marginal=True)"
   ]
  },
  {
   "cell_type": "code",
   "execution_count": 191,
   "metadata": {},
   "outputs": [
    {
     "name": "stdout",
     "output_type": "stream",
     "text": [
      "-7339.513520589013\n",
      "-7204.332155021682\n",
      "-6576.548828608871\n",
      "-6747.659587511436\n",
      "-6884.197109187369\n"
     ]
    }
   ],
   "source": [
    "print(mito_tree_comparison.tree.sequence_LH.sum())\n",
    "print(mito_tree.tree.sequence_LH.sum())\n",
    "print(mito_tree_asrv.tree.sequence_LH.sum())\n",
    "print(mito_tree_ss.tree.sequence_LH.sum())\n",
    "print(mito_tree_3d.tree.sequence_LH.sum())"
   ]
  },
  {
   "cell_type": "code",
   "execution_count": 198,
   "metadata": {},
   "outputs": [],
   "source": [
    "#mito_fix = mito_tree.tree.sequence_LH - mito_tree_comparison.tree.sequence_LH\n",
    "#mito_asrv = mito_tree_asrv.tree.sequence_LH - mito_tree_comparison.tree.sequence_LH\n",
    "#mito_ss = mito_tree_ss.tree.sequence_LH - mito_tree_comparison.tree.sequence_LH\n",
    "#mito_3d = mito_tree_3d.tree.sequence_LH - mito_tree_comparison.tree.sequence_LH\n",
    "\n",
    "mito_fix = mito_tree.tree.sequence_LH\n",
    "mito_asrv = mito_tree_asrv.tree.sequence_LH \n",
    "mito_ss = mito_tree_ss.tree.sequence_LH \n",
    "mito_3d = mito_tree_3d.tree.sequence_LH \n",
    "mito_vals = np.zeros(4*len(mito_fix)) \n",
    "mito_vals[:len(mito_fix)] = mito_fix\n",
    "mito_vals[len(mito_fix):2*len(mito_fix)] = mito_asrv\n",
    "mito_vals[2*len(mito_fix):3*len(mito_fix)] = mito_ss\n",
    "mito_vals[3*len(mito_fix):4*len(mito_fix)] = mito_3d"
   ]
  },
  {
   "cell_type": "code",
   "execution_count": 199,
   "metadata": {},
   "outputs": [],
   "source": [
    "method = ['Fixed (without Γ)'] * len(mito_fix) + ['ASRV (Γ)'] * len(mito_asrv) + \\\n",
    "        ['Solvent + Γ'] * len(mito_asrv) + ['Secondary + Γ'] * len(mito_asrv)"
   ]
  },
  {
   "cell_type": "code",
   "execution_count": 200,
   "metadata": {},
   "outputs": [],
   "source": [
    "df = pd.DataFrame.from_dict({'Loglikelihood': mito_vals, 'Method': method})"
   ]
  },
  {
   "cell_type": "code",
   "execution_count": 201,
   "metadata": {},
   "outputs": [
    {
     "data": {
      "image/png": "[encoded data removed]",
      "text/plain": [
       "<Figure size 576x432 with 1 Axes>"
      ]
     },
     "metadata": {},
     "output_type": "display_data"
    }
   ],
   "source": [
    "plt.figure(figsize=(8,6))\n",
    "ax = sns.violinplot(x=\"Method\", y=\"Loglikelihood\", data=df)\n",
    "plt.ylim([-150, 50])\n",
    "plt.savefig('loglikehood_mito_cyto_without_lg.png', dpi=300)\n",
    "plt.show()"
   ]
  },
  {
   "cell_type": "code",
   "execution_count": 345,
   "metadata": {},
   "outputs": [
    {
     "data": {
      "text/plain": [
       "218"
      ]
     },
     "execution_count": 345,
     "metadata": {},
     "output_type": "execute_result"
    }
   ],
   "source": [
    "tmp = mito_tree_3d.tree.sequence_LH - mito_tree.tree.sequence_LH\n",
    "tmp[tmp < 0].astype(bool).sum()"
   ]
  },
  {
   "cell_type": "code",
   "execution_count": null,
   "metadata": {},
   "outputs": [],
   "source": [
    "# Homo sapien aligned sequence -- for Sable analysis\n",
    "for node in mito_tree.tree.find_clades(order='preorder'):\n",
    "    if 'AAK17209.1' in node.name:\n",
    "        print(\"\".join(node.cseq))"
   ]
  },
  {
   "cell_type": "code",
   "execution_count": 202,
   "metadata": {},
   "outputs": [
    {
     "data": {
      "text/plain": [
       "1.7144410065349796"
      ]
     },
     "execution_count": 202,
     "metadata": {},
     "output_type": "execute_result"
    }
   ],
   "source": [
    "mito_tree.tree.total_branch_length()"
   ]
  },
  {
   "cell_type": "markdown",
   "metadata": {},
   "source": [
    "### NADH 5"
   ]
  },
  {
   "cell_type": "code",
   "execution_count": 281,
   "metadata": {},
   "outputs": [],
   "source": [
    "asrv = ASRV(1)\n",
    "rates = asrv.calc_rates()"
   ]
  },
  {
   "cell_type": "code",
   "execution_count": 282,
   "metadata": {},
   "outputs": [],
   "source": [
    "# solvent properties\n",
    "nadh_solvent_tmp = '4420120000000000000000000121233212210000000000000000000011332000100100112103010000000000000000000000000001100331331210000000000000000002000000000100000000000000212301300010000000000000000000010020010110010122100000000000000100101001000100111100000010000000000000001100220310000000000000000000000221011000000001000000000001110000000000001000000000000003231101201101330100000000000000000000001011100000012110000000000000000000000000001132323423313232110000000000000000000010001122110002110000000000000000000011123133432211110010000011001200021001001200121011000110012000100110220121031101000000000000000000'\n",
    "nadh_solvent_properties = np.array(list(nadh_solvent_tmp), dtype='U1')\n",
    "nadh_buried_sites = nadh_solvent_properties == '0'\n",
    "nadh_exposed_sites = nadh_solvent_properties != '0'\n",
    "nadh_solvent_properties[nadh_buried_sites] = 'B'\n",
    "nadh_solvent_properties[nadh_exposed_sites] = 'E'"
   ]
  },
  {
   "cell_type": "code",
   "execution_count": 283,
   "metadata": {},
   "outputs": [],
   "source": [
    "# secondary properties\n",
    "nadh_secondary_tmp = 'CCCHHHHHHHHHHHHHHHHHHHHHHCCCCCCCHHHHHHHHHHHHHHHHHHHHHHHHHCCCCEEEEEEEEEECCCCEEEEEEEECCHHHHHHHHHHHHHHHHHHHHHHHHCCCCCHHHHHHHHHHHHHHHHHHHHHCHHHHHHHHHHHHHHHHHHHHHHHHCCHHHHHHHHHHHHHHHHHHHHHHHHHHHHHHHCCCCCHHHHHHHCCCHHHHHHHHHHHHHHCCCCCCCCCHHHHHHHCCCCHHHHHHHHHHHHHHHHHHHHHHHHHHHCCHHHHHHHHHHHHHHHHHHHHHHHHHHCHHHHHHHHHHHHHHHHHHHHHCCCHHHHHHHHHHHHHHHHHHHHHHHHHHHHCCCCHHHHHHCHHHHHCHHHHHHHHHHHHHHHCCCCCCCCCHHHHHHHHHHHCCCHHHHHHHHHHHHHHHHHHHHHHHHHHHCCCCCCCCCCCCCCCCCHHHHHHHHHHHHHHHHHHHHHHHCCCCCCCEEECCHHHHHHHHHHHHHHHHHHHHHHHHHCCCCCCCCCCHHHHHHHHHHHHHHHHHHHHHHHHHHHHHHHHHHHHHHHHHHHHHHHHHHHHHHHHHHHHHHHHHHHHHHHHHHHHHHHHHHHHH'\n",
    "nadh_secondary_properties = np.array(list(nadh_secondary_tmp), dtype='U1')\n",
    "nadh_secondary_properties[nadh_secondary_properties == 'C'] = 'O'"
   ]
  },
  {
   "cell_type": "code",
   "execution_count": 284,
   "metadata": {},
   "outputs": [
    {
     "data": {
      "text/plain": [
       "604"
      ]
     },
     "execution_count": 284,
     "metadata": {},
     "output_type": "execute_result"
    }
   ],
   "source": [
    "len(nadh_secondary_properties)"
   ]
  },
  {
   "cell_type": "code",
   "execution_count": 285,
   "metadata": {},
   "outputs": [
    {
     "data": {
      "text/plain": [
       "0"
      ]
     },
     "execution_count": 285,
     "metadata": {},
     "output_type": "execute_result"
    }
   ],
   "source": [
    "nadh_tree_comparison = TreeAnc(compress=False, gtr='lg', tree=path+'nadh_raxml_tree.nwk', aln=path+'nadh_aln.fasta', verbose=0)\n",
    "nadh_tree_comparison.infer_ancestral_sequences(infer_gtr=False, marginal=True)\n",
    "\n",
    "\n",
    "nadh_tree = TreeAnc(compress=False, gtr='wag', tree=path+'nadh_raxml_tree.nwk', aln=path+'nadh_aln.fasta', verbose=0)\n",
    "nadh_tree.infer_ancestral_sequences(infer_gtr=False, marginal=True)\n",
    "\n",
    "nadh_tree_asrv = TreeAnc(compress=False, gtr='wag', tree=path+'nadh_raxml_tree.nwk', aln=path+'nadh_aln.fasta', \n",
    "                    rates=rates, verbose=0)\n",
    "nadh_tree_asrv.infer_ancestral_sequences(infer_gtr=False, marginal=True)\n",
    "\n",
    "\n",
    "nadh_tree_ss = TreeAnc(compress=False, gtr='EX', tree=path+'nadh_raxml_tree.nwk', aln=path+'nadh_aln.fasta', \n",
    "                    rates=rates, struct_propty=nadh_solvent_properties, verbose=0)\n",
    "nadh_tree_ss.infer_ancestral_sequences(infer_gtr=False, marginal=True)\n",
    "\n",
    "nadh_tree_3d = TreeAnc(compress=False, gtr='EX', tree=path+'nadh_raxml_tree.nwk', aln=path+'nadh_aln.fasta', \n",
    "                    rates=rates, struct_propty=nadh_secondary_properties, verbose=0)\n",
    "nadh_tree_3d.infer_ancestral_sequences(infer_gtr=False, marginal=True)"
   ]
  },
  {
   "cell_type": "code",
   "execution_count": 306,
   "metadata": {},
   "outputs": [
    {
     "name": "stdout",
     "output_type": "stream",
     "text": [
      "-19889.901083119035\n",
      "-18523.829795718248\n",
      "-19234.10686830979\n",
      "-19439.741287041914\n"
     ]
    }
   ],
   "source": [
    "print(nadh_tree.tree.total_sequence_LH)\n",
    "print(nadh_tree_asrv.tree.total_sequence_LH)\n",
    "print(nadh_tree_ss.tree.total_sequence_LH)\n",
    "print(nadh_tree_3d.tree.total_sequence_LH)"
   ]
  },
  {
   "cell_type": "code",
   "execution_count": 312,
   "metadata": {},
   "outputs": [],
   "source": [
    "nadh_fix = nadh_tree.tree.sequence_LH - nadh_tree_comparison.tree.sequence_LH \n",
    "nadh_asrv = nadh_tree_asrv.tree.sequence_LH - nadh_tree_comparison.tree.sequence_LH \n",
    "nadh_ss = nadh_tree_ss.tree.sequence_LH - nadh_tree_comparison.tree.sequence_LH \n",
    "nadh_3d = nadh_tree_3d.tree.sequence_LH- nadh_tree_comparison.tree.sequence_LH \n",
    "\n",
    "nadh_vals = np.zeros(4*len(nadh_fix)) \n",
    "nadh_vals[:len(nadh_fix)] = nadh_fix\n",
    "nadh_vals[len(nadh_fix):2*len(nadh_fix)] = nadh_asrv\n",
    "nadh_vals[2*len(nadh_fix):3*len(nadh_fix)] = nadh_ss\n",
    "nadh_vals[3*len(nadh_fix):4*len(nadh_fix)] = nadh_3d"
   ]
  },
  {
   "cell_type": "code",
   "execution_count": 313,
   "metadata": {},
   "outputs": [],
   "source": [
    "method = ['Fixed (without Γ)'] * len(nadh_fix) + ['ASRV (Γ)'] * len(nadh_asrv) + \\\n",
    "        ['Solvent + Γ'] * len(nadh_asrv) + ['Secondary + Γ'] * len(nadh_asrv)"
   ]
  },
  {
   "cell_type": "code",
   "execution_count": 314,
   "metadata": {},
   "outputs": [],
   "source": [
    "df = pd.DataFrame.from_dict({'Loglikelihood': nadh_vals, 'Method': method})"
   ]
  },
  {
   "cell_type": "code",
   "execution_count": 315,
   "metadata": {},
   "outputs": [
    {
     "data": {
      "image/png": "[encoded data removed]",
      "text/plain": [
       "<Figure size 576x432 with 1 Axes>"
      ]
     },
     "metadata": {},
     "output_type": "display_data"
    }
   ],
   "source": [
    "plt.figure(figsize=(8,6))\n",
    "ax = sns.violinplot(x=\"Method\", y=\"Loglikelihood\", data=df)\n",
    "#plt.ylim([-200, 50])\n",
    "plt.savefig('loglikehood_nadh.png', dpi=300)\n",
    "plt.show()"
   ]
  },
  {
   "cell_type": "code",
   "execution_count": 319,
   "metadata": {},
   "outputs": [
    {
     "data": {
      "text/plain": [
       "5.060585083910803"
      ]
     },
     "execution_count": 319,
     "metadata": {},
     "output_type": "execute_result"
    }
   ],
   "source": [
    "nadh_tree.tree.total_branch_length()"
   ]
  },
  {
   "cell_type": "code",
   "execution_count": 351,
   "metadata": {},
   "outputs": [
    {
     "data": {
      "text/plain": [
       "440"
      ]
     },
     "execution_count": 351,
     "metadata": {},
     "output_type": "execute_result"
    }
   ],
   "source": [
    "tmp = nadh_tree_asrv.tree.sequence_LH - nadh_tree.tree.sequence_LH\n",
    "tmp[tmp > 0].astype(bool).sum()"
   ]
  },
  {
   "cell_type": "code",
   "execution_count": 239,
   "metadata": {},
   "outputs": [
    {
     "name": "stdout",
     "output_type": "stream",
     "text": [
      "MNTMHTTMTTLTLTSLIPPILTTLVNPNKKNSYPHYVKSIVASTFIISLFPTTMFMCLDQEVIISNWHWATTQTTQLSLSFKLDYFSMMFIPVALFVTWSIMEFSLWYMNSDPNINQFFKYLLIFLITMLILVTANNLFQLFIGWEGVGIMSFLLISWWYARADANTAAIQAILYNRIGDIGFILALAWFILHSNSWDPQQMALLNANPSLTPLLGLLLAAAGKSAQLGLHPWLPSAMEGPTPVSALLHSSTMVVAGVFLLIRFHPLAENSPLIQTLTLCLGAITTLFAAVCALTQNDIKKIVAFSTSSQLGLMVVTIGINQPHLAFLHICTHAFFKAMLFMCSGSIIHNLNNEQDIRKMGGLLKTMPLTSTSLTIGSLALAGMPFLTGFYSKDHIIETANMSYTNAWALSITLIATSLTSAYSTRMILLTLTGQPRFPTLTNINENNPTLLNPIKRLAAGSLFAGFLITNNISPASPFQTTIPLYLKLTALAVTFLGLLTALDLNYLTNKLKMKSPLCTFYFSNMLGFYPSITHRTIPYLGLLTSQNLPLLLLDLTWLEKLLPKTISQHQISTSIITSTQKGMIKLYFLSFFFPLILTLLLIT\n"
     ]
    }
   ],
   "source": [
    "for node in nadh_tree.tree.find_clades(order='preorder'):\n",
    "    if node.name == 'AAK17672.1':\n",
    "        print(''.join(node.cseq))"
   ]
  },
  {
   "cell_type": "markdown",
   "metadata": {},
   "source": [
    "### Joint reconstruction time benchmark"
   ]
  },
  {
   "cell_type": "code",
   "execution_count": 337,
   "metadata": {},
   "outputs": [
    {
     "data": {
      "image/png": "[encoded data removed]",
      "text/plain": [
       "<Figure size 720x432 with 1 Axes>"
      ]
     },
     "metadata": {},
     "output_type": "display_data"
    }
   ],
   "source": [
    "seq_len = [200, 400, 600, 800, 1000]\n",
    "rt = [10.025, 28.519, 42.608, 65.127, 92.842]\n",
    "rt1 = [9.397, 23.672, 46.078, 63.954, 90.211]\n",
    "rt2 = [8.676, 34.509, 43.019, 63.899, 94.355]\n",
    "rt3 = [12.003, 23.377, 38.729, 68.527, 93.962]\n",
    "\n",
    "plt.figure(figsize=(10, 6))\n",
    "plt.plot(seq_len, rt, '-')\n",
    "plt.plot(seq_len, rt1, 'o')\n",
    "plt.plot(seq_len, rt2, 'o')\n",
    "plt.plot(seq_len, rt3, 'o')\n",
    "plt.xticks([200, 400, 600, 800, 1000])\n",
    "plt.xlim([150, 1050])\n",
    "plt.ylim([0, 100])\n",
    "plt.xlabel('Sequence length')\n",
    "plt.ylabel('runtime (s)')\n",
    "plt.savefig('benchmark joint.png', dpi=300)\n",
    "plt.show()"
   ]
  }
 ],
 "metadata": {
  "kernelspec": {
   "display_name": "Python 3",
   "language": "python",
   "name": "python3"
  },
  "language_info": {
   "codemirror_mode": {
    "name": "ipython",
    "version": 3
   },
   "file_extension": ".py",
   "mimetype": "text/x-python",
   "name": "python",
   "nbconvert_exporter": "python",
   "pygments_lexer": "ipython3",
   "version": "3.7.3"
  },
  "widgets": {
   "application/vnd.jupyter.widget-state+json": {
    "state": {},
    "version_major": 2,
    "version_minor": 0
   }
  }
 },
 "nbformat": 4,
 "nbformat_minor": 2
}
